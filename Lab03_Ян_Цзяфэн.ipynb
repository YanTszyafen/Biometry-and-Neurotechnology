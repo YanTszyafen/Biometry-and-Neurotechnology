{
 "cells": [
  {
   "cell_type": "markdown",
   "metadata": {},
   "source": [
    "#                                                                            ЛАБОРАТОРНАЯ РАБОТА № 3"
   ]
  },
  {
   "cell_type": "markdown",
   "metadata": {},
   "source": [
    "Ян Цзяфэн    P3223 "
   ]
  },
  {
   "cell_type": "markdown",
   "metadata": {},
   "source": [
    "Исходные данные: 2_f_1.csv"
   ]
  },
  {
   "cell_type": "code",
   "execution_count": 3,
   "metadata": {},
   "outputs": [],
   "source": [
    "import numpy as np\n",
    "import pandas as pd\n",
    "import matplotlib.pyplot as plt\n",
    "from matplotlib.font_manager import FontProperties\n",
    "import math\n",
    "import statsmodels.api as sm\n",
    "from statsmodels.tsa import stattools\n",
    "from scipy.interpolate import spline"
   ]
  },
  {
   "cell_type": "code",
   "execution_count": 4,
   "metadata": {},
   "outputs": [],
   "source": [
    "df = pd.read_csv('2_f_1.csv', header=None, names=['value'])"
   ]
  },
  {
   "cell_type": "code",
   "execution_count": 5,
   "metadata": {},
   "outputs": [
    {
     "name": "stdout",
     "output_type": "stream",
     "text": [
      "   value\n",
      "0    958\n",
      "1    978\n",
      "2   1020\n",
      "3   1062\n",
      "4   1081\n"
     ]
    }
   ],
   "source": [
    "print(df.head())"
   ]
  },
  {
   "cell_type": "markdown",
   "metadata": {},
   "source": [
    "1. По заданному массиву кардиоинтервалов рассчитать основные параметры вариабельности: среднее значение M, среднеквадратическое отклонение SDNN,  коэффициент вариации CV. "
   ]
  },
  {
   "attachments": {
    "image.png": {
     "image/png": "[encoded data removed]"
    }
   },
   "cell_type": "markdown",
   "metadata": {},
   "source": [
    "![image.png](attachment:image.png)"
   ]
  },
  {
   "cell_type": "code",
   "execution_count": 6,
   "metadata": {},
   "outputs": [
    {
     "name": "stdout",
     "output_type": "stream",
     "text": [
      "M = 970.3266666666667\n"
     ]
    }
   ],
   "source": [
    "M = df.value.mean()\n",
    "print(\"M =\", M)"
   ]
  },
  {
   "attachments": {
    "image.png": {
     "image/png": "[encoded data removed]"
    }
   },
   "cell_type": "markdown",
   "metadata": {},
   "source": [
    "![image.png](attachment:image.png)\n",
    "– это суммарный показатель вариабельности величин интервалов RR за весь рассматриваемый период, отражающий суммарный эффект вегетативной регуляции кровообращения"
   ]
  },
  {
   "cell_type": "code",
   "execution_count": 7,
   "metadata": {},
   "outputs": [
    {
     "name": "stdout",
     "output_type": "stream",
     "text": [
      "SDNN = 52.3483951087049\n"
     ]
    }
   ],
   "source": [
    "SDNN = df.value.std(ddof=1)\n",
    "print(\"SDNN =\", SDNN)"
   ]
  },
  {
   "attachments": {
    "image.png": {
     "image/png": "[encoded data removed]"
    }
   },
   "cell_type": "markdown",
   "metadata": {},
   "source": [
    "![image.png](attachment:image.png)\n",
    "\t- коэффициент вариации CV полного массива кардиоинтервалов представляет собой нормированную оценку SDNN:"
   ]
  },
  {
   "cell_type": "code",
   "execution_count": 8,
   "metadata": {},
   "outputs": [
    {
     "name": "stdout",
     "output_type": "stream",
     "text": [
      "CV = 5.39%\n"
     ]
    }
   ],
   "source": [
    "CV = \"%.2f%%\" % (SDNN / M * 100)\n",
    "print(\"CV =\", CV)"
   ]
  },
  {
   "attachments": {
    "image.png": {
     "image/png": "[encoded data removed]"
    }
   },
   "cell_type": "markdown",
   "metadata": {},
   "source": [
    "4. Определить вариационный размах MxDMn：\n",
    "\n",
    "    Мx – максимальное значение, Mn – минимальное значение,   MxDMn– вариационный размах. \n",
    "    ![image.png](attachment:image.png)"
   ]
  },
  {
   "cell_type": "code",
   "execution_count": 9,
   "metadata": {},
   "outputs": [
    {
     "name": "stdout",
     "output_type": "stream",
     "text": [
      "максимальное значение Mx = 1109\n",
      "минимальное значение Mn = 850\n",
      "вариационный размах MxDMn = 259\n"
     ]
    }
   ],
   "source": [
    "Mx = df.value.max()\n",
    "Mn = df.value.min()\n",
    "MxDMn = Mx - Mn\n",
    "print(\"максимальное значение Mx =\", Mx)\n",
    "print(\"минимальное значение Mn =\", Mn)\n",
    "print(\"вариационный размах MxDMn =\", MxDMn)"
   ]
  },
  {
   "cell_type": "markdown",
   "metadata": {},
   "source": [
    "2. По заданному массиву кардиоинтервалов построить гистограмму с шагом 50 мс (0.05 с) по следующему алгоритму:\n",
    "        a. динамический ряд кардиоинтервалов разбивается на k интервалов длиной Dx = 50 мс;\n",
    "        b. вычисляется, сколько значений кардиоинтервалов xi попало в каждый из интервалов;\n",
    "        c. частота попадания в какой-либо интервал получается делением числа попаданий на общее число кардиоинтервалов n;\n",
    "        d. над каждым из интервалов разбиения строится прямоугольник, высота каждого прямоугольника равна частоте, деленной на Δx;\n",
    "        e. полученную ступенчатую линию называют гистограммой."
   ]
  },
  {
   "cell_type": "code",
   "execution_count": 10,
   "metadata": {},
   "outputs": [
    {
     "name": "stdout",
     "output_type": "stream",
     "text": [
      "Total n = 300\n",
      "Amount x(850,900) = 28\n",
      "Frequency x(850,900) = 0.0933\n",
      "High x(850,900) = 0.0019\n",
      "Amount x(900,950) = 75\n",
      "Frequency x(900,950) = 0.2500\n",
      "High x(900,950) = 0.0050\n",
      "Amount x(950,1000) = 106\n",
      "Frequency x(950,1000) = 0.3533\n",
      "High x(950,1000) = 0.0071\n",
      "Amount x(1000,1050) = 73\n",
      "Frequency x(1000,1050) = 0.2433\n",
      "High x(1000,1050) = 0.0049\n",
      "Amount x(1050,1100) = 17\n",
      "Frequency x(1050,1100) = 0.0567\n",
      "High x(1050,1100) = 0.0011\n",
      "Amount x(1100,1150) = 1\n",
      "Frequency x(1100,1150) = 0.0033\n",
      "High x(1100,1150) = 0.0001\n"
     ]
    },
    {
     "data": {
      "image/png": "[encoded data removed]",
      "text/plain": [
       "<Figure size 432x288 with 1 Axes>"
      ]
     },
     "metadata": {
      "needs_background": "light"
     },
     "output_type": "display_data"
    }
   ],
   "source": [
    "bins = math.ceil((Mx - Mn)/50)\n",
    "temp = 0\n",
    "Amount_xi = 0\n",
    "n = df.value.count()\n",
    "print(\"Total n =\",n)\n",
    "Frequency = []\n",
    "High = []\n",
    "\n",
    "for i in range(math.ceil(Mn/50)*50,math.ceil(Mx/50)*50,50):\n",
    "    temp += Amount_xi\n",
    "    Amount_xi = df.value[df.value < i+50].count() - temp\n",
    "    print(\"Amount x(%d,%d) = %d\"%(i,i+50,Amount_xi))\n",
    "    Frequency_xi = round(Amount_xi/n,4)\n",
    "    print(\"Frequency x(%d,%d) = %.4f\"%(i,i+50,Frequency_xi))\n",
    "    Frequency.append(Frequency_xi)\n",
    "    High_xi = Frequency_xi/50\n",
    "    High.append(High_xi)\n",
    "    print(\"High x(%d,%d) = %.4f\"%(i,i+50,High_xi))\n",
    "\n",
    "prob,left,rectangle = plt.hist(x = df.value,\n",
    "        bins = math.ceil((Mx - Mn)/50),\n",
    "        rwidth = 50,\n",
    "        range = (math.floor(Mn/50)*50,math.ceil(Mx/50)*50),\n",
    "        histtype='bar',\n",
    "        color = 'steelblue',\n",
    "        edgecolor = 'black',\n",
    "        density = True)\n",
    "plt.ylabel('частота')\n",
    "plt.xlabel('интервал, мс')\n",
    "plt.xticks(range(Mn,Mx+50,50))\n",
    "plt.grid(alpha=0.3)\n",
    "plt.title('Вариационная пульсограмма (гистограмма: частота)',fontweight='bold')\n",
    "plt.show()"
   ]
  },
  {
   "cell_type": "code",
   "execution_count": 11,
   "metadata": {},
   "outputs": [
    {
     "data": {
      "image/png": "[encoded data removed]",
      "text/plain": [
       "<Figure size 432x288 with 1 Axes>"
      ]
     },
     "metadata": {
      "needs_background": "light"
     },
     "output_type": "display_data"
    }
   ],
   "source": [
    "plt.close()\n",
    "prob,left,rectangle = plt.hist(x = df.value,\n",
    "        bins = math.ceil((Mx - Mn)/50),\n",
    "        rwidth = 50,\n",
    "        range = (math.floor(Mn/50)*50,math.ceil(Mx/50)*50),\n",
    "        histtype='bar',\n",
    "        color = 'steelblue',\n",
    "        edgecolor = 'black')\n",
    "plt.ylabel('количество')\n",
    "plt.xlabel('интервал, мс')\n",
    "plt.xticks(range(Mn,Mx+50,50))\n",
    "plt.grid(alpha=0.3)\n",
    "plt.title('Вариационная пульсограмма (гистограмма: количество)',fontweight='bold')\n",
    "plt.show()"
   ]
  },
  {
   "cell_type": "markdown",
   "metadata": {},
   "source": [
    "3.\tПо полученному графику определить амплитуду моды АMо, которая соответствует максимальному значению, и моду Mо – значение аргумента в точке максимума."
   ]
  },
  {
   "cell_type": "code",
   "execution_count": 12,
   "metadata": {},
   "outputs": [
    {
     "name": "stdout",
     "output_type": "stream",
     "text": [
      "мода Mo = 975.0\n",
      "амплитуда моды AMo = 35.33%\n"
     ]
    }
   ],
   "source": [
    "Mo = 950+50/2\n",
    "AMo = round((df.value[df.value<1000].count()-df.value[df.value<950].count())/n*100,2)\n",
    "print(\"мода Mo =\",Mo)\n",
    "print(\"амплитуда моды AMo = %.2f%%\" % AMo)"
   ]
  },
  {
   "cell_type": "markdown",
   "metadata": {},
   "source": [
    "5.\tРассчитать индекс напряжения регуляторных систем ИН."
   ]
  },
  {
   "cell_type": "code",
   "execution_count": 13,
   "metadata": {},
   "outputs": [
    {
     "name": "stdout",
     "output_type": "stream",
     "text": [
      "индекс напряжения регуляторных систем SI = 69.95%\n"
     ]
    }
   ],
   "source": [
    "SI = AMo/(2*Mo/1000*MxDMn/1000)\n",
    "print(\"индекс напряжения регуляторных систем SI = %.2f%%\" % SI)"
   ]
  },
  {
   "cell_type": "markdown",
   "metadata": {},
   "source": [
    "6.\tПо заданному массиву кардиоинтервалов построить график автокоррелограммы."
   ]
  },
  {
   "cell_type": "code",
   "execution_count": 14,
   "metadata": {},
   "outputs": [
    {
     "data": {
      "image/png": "[encoded data removed]",
      "text/plain": [
       "<Figure size 432x288 with 1 Axes>"
      ]
     },
     "metadata": {
      "needs_background": "light"
     },
     "output_type": "display_data"
    }
   ],
   "source": [
    "sdracf=stattools.acf(df.value, nlags=300)\n",
    "plt.plot(sdracf)\n",
    "plt.ylabel('Коэффициент корреляции r')\n",
    "plt.xlabel('Сдвиг c')\n",
    "plt.xticks(range(0,305,50))\n",
    "plt.grid(alpha=0.3)\n",
    "plt.title('Автокорреляционная функция',fontweight='bold')\n",
    "plt.hlines(0,0,305,linestyle = '-')\n",
    "plt.show()"
   ]
  },
  {
   "cell_type": "markdown",
   "metadata": {},
   "source": [
    "7.\tРассчитать значение коэффициента корреляции после первого сдвига СС1 и число сдвигов до первого нулевого значения коэффициента корреляции СС0. "
   ]
  },
  {
   "cell_type": "code",
   "execution_count": 15,
   "metadata": {},
   "outputs": [
    {
     "name": "stdout",
     "output_type": "stream",
     "text": [
      "CC1 = 0.7407996546511376\n",
      "CC0 = 3\n"
     ]
    }
   ],
   "source": [
    "CC1 = stattools.acf(df.value, nlags=300)[1]\n",
    "print(\"CC1 =\",CC1)\n",
    "for i in range(300):\n",
    "    CC_i = (stattools.acf(df.value, nlags=300)[i])\n",
    "    CC_i_ = (stattools.acf(df.value, nlags=300)[i-1])\n",
    "    if(CC_i_ >=0 and CC_i<=0):\n",
    "        CC0 = i\n",
    "        print(\"CC0 =\",i)\n",
    "        break"
   ]
  },
  {
   "cell_type": "markdown",
   "metadata": {},
   "source": [
    "8.\tПо заданному массиву кардиоинтервалов построить корреляционную ритмограмму."
   ]
  },
  {
   "cell_type": "code",
   "execution_count": 16,
   "metadata": {
    "scrolled": true
   },
   "outputs": [
    {
     "data": {
      "image/png": "[encoded data removed]",
      "text/plain": [
       "<Figure size 432x288 with 1 Axes>"
      ]
     },
     "metadata": {
      "needs_background": "light"
     },
     "output_type": "display_data"
    }
   ],
   "source": [
    "x = [df.value.loc[N-1]/1000-df.value.loc[N]/1000 for N in range(1,299)]\n",
    "y = [df.value.loc[N]/1000-df.value.loc[N+1]/1000 for N in range(1,299)]\n",
    "z = [-0.3,0.3]\n",
    "plt.xlabel('c')\n",
    "plt.ylabel('c')\n",
    "plt.xticks(np.arange(-0.3,0.4,0.1))\n",
    "plt.grid(alpha=0.3)\n",
    "plt.plot(z,z,color = 'orange')\n",
    "plt.scatter(x,y)\n",
    "plt.title('Корреляционная ритмограмма - скаттерограмма',fontweight='bold')\n",
    "plt.show()"
   ]
  },
  {
   "cell_type": "markdown",
   "metadata": {},
   "source": [
    "Выводы по полученным результатам исследования:\n",
    "\n",
    "    a.  В норме ИН колеблется в пределах 80-150 условных единиц. А здесь ИН чуть ниже нормы.\n",
    "    b. В исследуемой выборке доминируют медленноволновые компоненты, потому что коэффициент корреляции после первого сдвига будет лишь незначительно ниже единицы.\n",
    "    c. В скаттерограмме представляется эллипс, значит, что к дыхательной прибавлена некоторая величина недыхательной аритмии."
   ]
  }
 ],
 "metadata": {
  "kernelspec": {
   "display_name": "Python 3",
   "language": "python",
   "name": "python3"
  },
  "language_info": {
   "codemirror_mode": {
    "name": "ipython",
    "version": 3
   },
   "file_extension": ".py",
   "mimetype": "text/x-python",
   "name": "python",
   "nbconvert_exporter": "python",
   "pygments_lexer": "ipython3",
   "version": "3.7.0"
  }
 },
 "nbformat": 4,
 "nbformat_minor": 2
}
